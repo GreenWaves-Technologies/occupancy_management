{
 "cells": [
  {
   "cell_type": "markdown",
   "metadata": {},
   "source": [
    "# Dataset division"
   ]
  },
  {
   "cell_type": "markdown",
   "metadata": {},
   "source": [
    "In order to split dataset into required subsets (e.g., train, validation, etc.), the user can employ the code below. This requires the percentages for all divisions and shuffleing process parameters. A zero-percent through means that no sample will be taken."
   ]
  },
  {
   "cell_type": "code",
   "execution_count": 1,
   "metadata": {},
   "outputs": [],
   "source": [
    "import os\n",
    "from data_preparation.preparation_utils import data_division\n",
    "\n",
    "# images path:      ./data/images\n",
    "# annotations path: ./data/annotations\n",
    "data_path = './data'\n",
    "annotations_path = os.path.join(data_path, 'annotations.csv')\n",
    "\n",
    "# Percentages \n",
    "percentages = {'train': 70, 'val': 10, 'test': 5, 'train_fine_tuning':5, 'val_fine_tuning':5, 'test_fine_tuning':5}\n",
    "\n",
    "# Shuffling\n",
    "shuffling_info = {'INCLUDE': True, 'random_seed': 1000, 'num_shuffles': 5}\n",
    "\n",
    "# split dataset according to the assigned percentages\n",
    "datasets  = data_division(annotations_path, percentages, shuffling_info)"
   ]
  },
  {
   "cell_type": "markdown",
   "metadata": {},
   "source": [
    "Samples taken for each task have been exported in same path for annotations (*.csv). Annotations info for each set can be inspected through the <datasets> object:\n",
    "    \n",
    "    train             : datasets.train_data\n",
    "    validation        : datasets.val_data\n",
    "    test              : datasets.test_data\n",
    "    train fine-tuning : datasets.train_fine_tuning_data\n",
    "    val fine-tuning   : datasets.val_fine_tuning_data\n",
    "    test fine-tuning  : datasets.test_fine_tuning_data\n",
    "    \n",
    "    * Pandas DataFrame format\n",
    "    \n",
    "    "
   ]
  }
 ],
 "metadata": {
  "kernelspec": {
   "display_name": "Python 3 (Spyder)",
   "language": "python3",
   "name": "python3"
  },
  "language_info": {
   "codemirror_mode": {
    "name": "ipython",
    "version": 3
   },
   "file_extension": ".py",
   "mimetype": "text/x-python",
   "name": "python",
   "nbconvert_exporter": "python",
   "pygments_lexer": "ipython3",
   "version": "3.7.3"
  }
 },
 "nbformat": 4,
 "nbformat_minor": 4
}
