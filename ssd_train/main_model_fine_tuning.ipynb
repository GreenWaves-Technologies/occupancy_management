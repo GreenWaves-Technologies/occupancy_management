{
 "cells": [
  {
   "cell_type": "markdown",
   "metadata": {},
   "source": [
    "# Main-model fine tuning"
   ]
  },
  {
   "cell_type": "markdown",
   "metadata": {},
   "source": [
    "This is a brief tutorial on how to fine tune a pre-trained main-model. This assumes that the new model parameters are in correspondence with main-model configurations. The fine tuning process is similar to the main-model training; however, it requires weight transfering as below:"
   ]
  },
  {
   "cell_type": "code",
   "execution_count": null,
   "metadata": {},
   "outputs": [],
   "source": [
    "\n",
    "# requirements, data paths, etc.\n",
    "\n",
    "\n",
    "# model configuration parameters\n",
    "model_constructor_params = {'image_size': image_size, 'n_classes': n_classes, 'mode':'training',\\\n",
    "                            'l2_regularization':0.0005, 'min_scale': 0.1, 'max_scale':0.9, 'scales':scales, 'n_predictor_layers':n_predictor_layers,\\\n",
    "                            'aspect_ratios_global':aspect_ratios_global,'aspect_ratios_per_layer':aspect_ratios_per_layer, 'two_boxes_for_ar1':True,\\\n",
    "                            'steps':None, 'offsets':None, 'clip_boxes':False, 'variances':variances, 'coords':'centroids',\\\n",
    "                            'normalize_coords':True, 'subtract_mean':intensity_mean,'divide_by_stddev':intensity_range,'swap_channels':False,\\\n",
    "                            'confidence_thresh':0.5,'iou_threshold':0.5, 'top_k':40, 'nms_max_output_size':400,\\\n",
    "                            'return_predictor_sizes':True,'build_simple_model':True}\n",
    "\n",
    "# Pass model configuration parameters to the model builder\n",
    "constructed_models = build_models(model_constructor_params)\n",
    "main_model = constructed_models.main_model\n",
    "main_model.load_weights('PASS TO THE WEIGHTS.h5', by_name=True)\n",
    "\n",
    "\n",
    "# cerate data generators\n",
    "\n",
    "# set all requirements for the fine-training, like callbakcs, initial epochs, learning rates, etc.\n",
    "\n",
    "# train ft_model\n",
    "\n",
    "# evaluate the ft_model\n",
    "\n",
    "# create a base model for quantization process "
   ]
  }
 ],
 "metadata": {
  "kernelspec": {
   "display_name": "Python 3 (Spyder)",
   "language": "python3",
   "name": "python3"
  },
  "language_info": {
   "codemirror_mode": {
    "name": "ipython",
    "version": 3
   },
   "file_extension": ".py",
   "mimetype": "text/x-python",
   "name": "python",
   "nbconvert_exporter": "python",
   "pygments_lexer": "ipython3",
   "version": "3.7.3"
  }
 },
 "nbformat": 4,
 "nbformat_minor": 4
}
